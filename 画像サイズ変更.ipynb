{
  "nbformat": 4,
  "nbformat_minor": 0,
  "metadata": {
    "colab": {
      "provenance": [],
      "authorship_tag": "ABX9TyM4MTfFH6DM+nc4Xh9fTHau",
      "include_colab_link": true
    },
    "kernelspec": {
      "name": "python3",
      "display_name": "Python 3"
    },
    "language_info": {
      "name": "python"
    }
  },
  "cells": [
    {
      "cell_type": "markdown",
      "metadata": {
        "id": "view-in-github",
        "colab_type": "text"
      },
      "source": [
        "<a href=\"https://colab.research.google.com/github/japanipsystem/open/blob/main/%E7%94%BB%E5%83%8F%E3%82%B5%E3%82%A4%E3%82%BA%E5%A4%89%E6%9B%B4.ipynb\" target=\"_parent\"><img src=\"https://colab.research.google.com/assets/colab-badge.svg\" alt=\"Open In Colab\"/></a>"
      ]
    },
    {
      "cell_type": "code",
      "source": [
        "'''\n",
        "2024/12/18\n",
        "JPEGの画像ファイルのリサイズ用のコード\n",
        "\n",
        "使用例\n",
        "１。入力・出力用のパスを設定\n",
        "input_path = \"/content/input_folder/雲.jpg\"  # 入力画像のパス\n",
        "output_folder = \"/content/output_folder\"      # 出力フォルダのパス\n",
        "\n",
        "２。関数を呼び出し\n",
        "resize_image(input_path, output_folder)\n",
        "'''\n",
        "\n",
        "from PIL import Image\n",
        "import os\n",
        "\n",
        "def resize_image(input_path, output_folder, max_size=(1181, 1181)):\n",
        "    \"\"\"\n",
        "    画像をリサイズして保存する関数。\n",
        "\n",
        "    Parameters:\n",
        "        input_path (str): 入力画像のファイルパス\n",
        "        output_folder (str): 出力画像を保存するフォルダのパス\n",
        "        max_size (tuple): リサイズ後の最大サイズ (幅, 高さ)\n",
        "\n",
        "    Returns:\n",
        "        str: リサイズ後の画像の保存先パス\n",
        "    \"\"\"\n",
        "    try:\n",
        "        # 入力画像の読み込み\n",
        "        img = Image.open(input_path)\n",
        "\n",
        "        # 出力フォルダが存在しない場合は作成\n",
        "        os.makedirs(output_folder, exist_ok=True)\n",
        "\n",
        "        # 出力ファイル名を生成（入力ファイル名に _resized を追加）\n",
        "        file_name, ext = os.path.splitext(os.path.basename(input_path))\n",
        "        output_file_name = f\"{file_name}_resized{ext}\"\n",
        "        output_path = os.path.join(output_folder, output_file_name)\n",
        "\n",
        "        # 画像をリサイズ\n",
        "        img.thumbnail(max_size)\n",
        "\n",
        "        # リサイズ後の画像を保存\n",
        "        img.save(output_path, \"JPEG\")\n",
        "        print(f\"画像がリサイズされ、保存されました: {output_path}\")\n",
        "        return output_path\n",
        "\n",
        "    except FileNotFoundError:\n",
        "        print(f\"エラー: 入力画像が存在しません。以下のパスを確認してください。\\n{input_path}\")\n",
        "    except Exception as e:\n",
        "        print(f\"予期しないエラーが発生しました: {str(e)}\")\n",
        "\n",
        "# パス設定\n",
        "input_path = \"/content/input_folder/雲.jpg\"  # 入力画像のパス\n",
        "output_folder = \"/content/output_folder\"      # 出力フォルダのパス\n",
        "\n",
        "# 関数を実行\n",
        "resize_image(input_path, output_folder)\n"
      ],
      "metadata": {
        "colab": {
          "base_uri": "https://localhost:8080/",
          "height": 52
        },
        "id": "heObFsVHj4CE",
        "outputId": "a703b8fe-cefc-462b-c40f-3bf41119d429"
      },
      "execution_count": 11,
      "outputs": [
        {
          "output_type": "stream",
          "name": "stdout",
          "text": [
            "画像がリサイズされ、保存されました: /content/output_folder/雲_resized.jpg\n"
          ]
        },
        {
          "output_type": "execute_result",
          "data": {
            "text/plain": [
              "'/content/output_folder/雲_resized.jpg'"
            ],
            "application/vnd.google.colaboratory.intrinsic+json": {
              "type": "string"
            }
          },
          "metadata": {},
          "execution_count": 11
        }
      ]
    },
    {
      "source": [],
      "cell_type": "code",
      "metadata": {
        "id": "qD8hvCYBhGja"
      },
      "execution_count": null,
      "outputs": []
    }
  ]
}